{
  "cells": [
    {
      "metadata": {
        "collapsed": true
      },
      "cell_type": "markdown",
      "source": "# Question Answering System"
    },
    {
      "metadata": {},
      "cell_type": "markdown",
      "source": "### Web Page Extraction"
    },
    {
      "metadata": {
        "trusted": true
      },
      "cell_type": "code",
      "source": "import urllib\nimport requests\nfrom bs4 import BeautifulSoup\nfrom requests import get\nimport re\nimport collections\nimport pandas as pd\nimport matplotlib.pyplot as plt\nimport nltk\nnltk.download('stopwords')\nfrom nltk.corpus import stopwords",
      "execution_count": 18,
      "outputs": [
        {
          "output_type": "stream",
          "text": "[nltk_data] Downloading package stopwords to /home/nbuser/nltk_data...\n[nltk_data]   Package stopwords is already up-to-date!\n",
          "name": "stdout"
        }
      ]
    },
    {
      "metadata": {
        "trusted": true
      },
      "cell_type": "code",
      "source": "import io\nimport random\nimport string # to process standard python strings\nimport warnings\nimport numpy as np\nfrom sklearn.feature_extraction.text import TfidfVectorizer\nfrom sklearn.metrics.pairwise import cosine_similarity\nimport warnings\nwarnings.filterwarnings('ignore')\nfrom nltk.stem import WordNetLemmatizer\nnltk.download('popular', quiet=True)\nnltk.download('punkt')\nnltk.download('wordnet')",
      "execution_count": 19,
      "outputs": [
        {
          "output_type": "stream",
          "text": "[nltk_data] Downloading package punkt to /home/nbuser/nltk_data...\n[nltk_data]   Package punkt is already up-to-date!\n[nltk_data] Downloading package wordnet to /home/nbuser/nltk_data...\n[nltk_data]   Package wordnet is already up-to-date!\n",
          "name": "stdout"
        },
        {
          "output_type": "execute_result",
          "execution_count": 19,
          "data": {
            "text/plain": "True"
          },
          "metadata": {}
        }
      ]
    },
    {
      "metadata": {
        "trusted": true
      },
      "cell_type": "code",
      "source": "# Extracting web page from Google Search\n\n## for google query, the query is passed in the url, replacing the spaces with the + symbol\nquery=input()\nquery=query.replace(' ','+')\nURL = f\"https://google.com/search?q={query}\"\n\n## user agent specification, as google returns different results for mobile and desktop\n### desktop user-agent\nUSER_AGENT = \"Mozilla/5.0 (Macintosh; Intel Mac OS X 10.14; rv:65.0) Gecko/20100101 Firefox/65.0\"\n### mobile user-agent\nMOBILE_USER_AGENT = \"Mozilla/5.0 (Linux; Android 7.0; SM-G930V Build/NRD90M) AppleWebKit/537.36 (KHTML, like Gecko) Chrome/59.0.3071.125 Mobile Safari/537.36\"\n\n## user-agent must be in the headers. We pass in a dictionary for the headers in requests.\nheaders = {\"user-agent\" : USER_AGENT}\nresponse = requests.get(URL, headers=headers)\n\n## checking if the request was successful (if we obtain 200 in return, it is successful), then we put it into BeautifulSoup for content parsing\nif response.status_code == 200:\n    soup = BeautifulSoup(response.content, \"html.parser\")\n    \n## parsing the data and extracting all anchor links from the page. storing the results in the results list.\nresults = []\nfor g in soup.find_all('div', class_='r'):\n    anchors = g.find_all('a')\n    if anchors:\n        link = anchors[0]['href']\n        title = g.find('h3').text\n        item = {\n            \"title\": title,\n            \"link\": link\n        }\n        results.append(item['link'])\nprint(results)",
      "execution_count": 20,
      "outputs": [
        {
          "output_type": "stream",
          "name": "stdout",
          "text": "What is an Electromagnet?\n['https://education.jlab.org/qa/electromagnet_is.html', 'https://science.howstuffworks.com/electromagnet.htm', 'https://en.wikipedia.org/wiki/Electromagnet', 'https://monroeengineering.com/blog/what-is-an-electromagnet/', 'https://study.com/academy/lesson/what-is-an-electromagnet-definition-uses-parts.html', 'https://www.dictionary.com/browse/electromagnet', 'https://www.merriam-webster.com/dictionary/electromagnet', 'https://byjus.com/physics/what-are-electromagnets/', 'https://astrocampschool.org/electromagnet/']\n"
        }
      ]
    },
    {
      "metadata": {
        "trusted": true
      },
      "cell_type": "code",
      "source": "# Snippet Extraction from the obtained web page urls\nraw = get(results[0]).text ###this is how we can extract raw html from web pages\n\nhtml = requests.get(results[0]).content\n#1 Recoding\nunicode_str = html.decode(\"utf8\")\nencoded_str = unicode_str.encode(\"ascii\",'ignore')\nnews_soup = BeautifulSoup(encoded_str, \"html.parser\")\na_text = news_soup.find_all('p')\n#2 Removing\ny=[re.sub(r'<.+?>',r'',str(a)) for a in a_text]\ny=[x.replace('\\n','') for x in y]\ny=[x.strip() for x in y]\ny=' '.join(y)\nprint(y)",
      "execution_count": 22,
      "outputs": [
        {
          "output_type": "stream",
          "text": " Previous Question (What is the sun made from?) Questions and Answers Main Index Next Question (How do I make amodel of an atom?)  What is an electromagnet? An electromagnet is a magnet that runs on electricity. Unlike a permanent magnet, the strength of an electromagnet can easily be changed by changing the amount of electric current that flows through it. The poles of an electromagnet can even be reversed by reversing the flow of electricity. An electromagnet works because an electric current produces a magnetic field. The magnetic field produced by an electric current forms circles around the electric current, as shown in the diagram below:  If a wire carrying an electric current is formed into a series of loops, the magnetic field can be concentrated within the loops. The magnetic field can be strengthened even more by wrapping the wire around a core. The atoms of certain materials, such as iron, nickel and cobalt, each behave like tiny magnets. Normally, the atoms in something like a lump of iron point in random directions and the individual magnetic fields tend to cancel each other out. However, the magnetic field produced by the wire wrapped around the core can force some of the atoms within the core to point in one direction. All of their little magnetic fields add together, creating a stronger magnetic field. As the current flowing around the core increases, the number of aligned atoms increases and the stronger the magnetic field becomes. At least, up to a point. Sooner or later, all of the atoms that can be aligned will be aligned. At this point, the magnet is said to be saturated and increasing the electric current flowing around the core no longer affects the magnetization of the core itself. Related Pages: Do you know what an electromagnet is? Which jobs use electromagnets? How do I make an electromagnet? BEAMS Activity - Magnets and Electromagnets What is a mixture? Citation and linking information For questions about this page, please contact Steve Gagnon. Thomas Jefferson National Accelerator Facility OFFICE OF SCIENCE EDUCATION 628 Hofstadter Road, Suite 6Newport News, VA 23606 CONTACT US Jefferson Lab Resources Thomas Jefferson National Accelerator Facility is managed by Jefferson Science Associates, LLC for the U.S. Department of Energy\n",
          "name": "stdout"
        }
      ]
    },
    {
      "metadata": {
        "trusted": true
      },
      "cell_type": "code",
      "source": "",
      "execution_count": null,
      "outputs": []
    }
  ],
  "metadata": {
    "kernelspec": {
      "name": "python36",
      "display_name": "Python 3.6",
      "language": "python"
    },
    "language_info": {
      "mimetype": "text/x-python",
      "nbconvert_exporter": "python",
      "name": "python",
      "pygments_lexer": "ipython3",
      "version": "3.6.6",
      "file_extension": ".py",
      "codemirror_mode": {
        "version": 3,
        "name": "ipython"
      }
    }
  },
  "nbformat": 4,
  "nbformat_minor": 2
}